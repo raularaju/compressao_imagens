{
 "cells": [
  {
   "cell_type": "code",
   "execution_count": 6,
   "metadata": {},
   "outputs": [
    {
     "ename": "ModuleNotFoundError",
     "evalue": "No module named 'numpy'",
     "output_type": "error",
     "traceback": [
      "\u001b[1;31m---------------------------------------------------------------------------\u001b[0m",
      "\u001b[1;31mModuleNotFoundError\u001b[0m                       Traceback (most recent call last)",
      "Cell \u001b[1;32mIn[6], line 2\u001b[0m\n\u001b[0;32m      1\u001b[0m \u001b[38;5;28;01mfrom\u001b[39;00m \u001b[38;5;21;01mcollections\u001b[39;00m \u001b[38;5;28;01mimport\u001b[39;00m defaultdict\n\u001b[1;32m----> 2\u001b[0m \u001b[38;5;28;01mimport\u001b[39;00m \u001b[38;5;21;01mnumpy\u001b[39;00m \u001b[38;5;28;01mas\u001b[39;00m \u001b[38;5;21;01mnp\u001b[39;00m\n\u001b[0;32m      3\u001b[0m \u001b[38;5;28;01mimport\u001b[39;00m \u001b[38;5;21;01mheapq\u001b[39;00m\n\u001b[0;32m      4\u001b[0m \u001b[38;5;28;01mfrom\u001b[39;00m \u001b[38;5;21;01mcollections\u001b[39;00m \u001b[38;5;28;01mimport\u001b[39;00m defaultdict, Counter\n",
      "\u001b[1;31mModuleNotFoundError\u001b[0m: No module named 'numpy'"
     ]
    }
   ],
   "source": [
    "from collections import defaultdict\n",
    "import numpy as np\n",
    "import heapq\n",
    "from collections import defaultdict, Counter\n",
    "import struct\n",
    "import sys"
   ]
  },
  {
   "cell_type": "markdown",
   "metadata": {},
   "source": [
    "# Tirar os residuos/  Pegar os resíduos e transformar na imagem original - Giovana "
   ]
  },
  {
   "cell_type": "code",
   "execution_count": null,
   "metadata": {},
   "outputs": [],
   "source": []
  },
  {
   "cell_type": "markdown",
   "metadata": {},
   "source": [
    "# Fazer a tranformada/fazer a transformada inversa - Fernando\n"
   ]
  },
  {
   "cell_type": "code",
   "execution_count": null,
   "metadata": {},
   "outputs": [],
   "source": []
  },
  {
   "cell_type": "markdown",
   "metadata": {},
   "source": [
    "# Codificar/Decodidicar (huffman) - Araju\n"
   ]
  },
  {
   "cell_type": "code",
   "execution_count": null,
   "metadata": {},
   "outputs": [
    {
     "data": {
      "text/plain": [
       "[[3, '000'],\n",
       " [4, '001'],\n",
       " [5, '010'],\n",
       " [6, '011'],\n",
       " [7, '100'],\n",
       " [8, '101'],\n",
       " [9, '110'],\n",
       " [1, '1110'],\n",
       " [2, '1111']]"
      ]
     },
     "execution_count": 5,
     "metadata": {},
     "output_type": "execute_result"
    }
   ],
   "source": [
    "from heapq import heappush, heappop, heapify\n",
    "from collections import defaultdict\n",
    "\n",
    "def encode(symb2freq):\n",
    "    \"\"\"Huffman encode the given dict mapping symbols to weights\"\"\"\n",
    "    heap = [[wt, [sym, \"\"]] for sym, wt in symb2freq.items()]\n",
    "    heapify(heap)\n",
    "    while len(heap) > 1:\n",
    "        lo = heappop(heap)\n",
    "        hi = heappop(heap)\n",
    "        for pair in lo[1:]:\n",
    "            pair[1] = '0' + pair[1]\n",
    "        for pair in hi[1:]:\n",
    "            pair[1] = '1' + pair[1]\n",
    "        heappush(heap, [lo[0] + hi[0]] + lo[1:] + hi[1:])\n",
    "    return sorted(heappop(heap)[1:], key=lambda p: (len(p[-1]), p))\n",
    "encode({1 : 1/9, 2 : 1/9, 3 : 1/9, 4 : 1/9, 5 : 1/9, 6 : 1/9, 7 : 1/9, 8 : 1/9, 9 : 1/9})"
   ]
  },
  {
   "cell_type": "code",
   "execution_count": null,
   "metadata": {},
   "outputs": [
    {
     "name": "stdout",
     "output_type": "stream",
     "text": [
      "{5: '000', 2: '001', 1: '010', 4: '011', 8: '100', 6: '101', 9: '110', 7: '1110', 3: '1111'}\n"
     ]
    }
   ],
   "source": [
    "class Node:\n",
    "    def __init__(self, freq, symbol=None, left=None, right=None):\n",
    "        self.freq = freq\n",
    "        self.symbol = symbol\n",
    "        self.left = left\n",
    "        self.right = right\n",
    "\n",
    "    def __lt__(self, other):\n",
    "        return self.freq < other.freq\n",
    "\n",
    "def build_huffman_tree(frequencies):\n",
    "    heap = [Node(freq, symbol) for symbol, freq in frequencies.items()]\n",
    "    heapq.heapify(heap)\n",
    "\n",
    "    while len(heap) > 1:\n",
    "        left = heapq.heappop(heap)\n",
    "        right = heapq.heappop(heap)\n",
    "        merged = Node(left.freq + right.freq, left=left, right=right)\n",
    "        heapq.heappush(heap, merged)\n",
    "\n",
    "    return heap[0] if heap else None\n",
    "\n",
    "def generate_huffman_codes(node, prefix=\"\", codebook=None):\n",
    "    if codebook is None:\n",
    "        codebook = {}\n",
    "\n",
    "    if node is not None:\n",
    "        if node.symbol is not None:\n",
    "            codebook[node.symbol] = prefix\n",
    "        generate_huffman_codes(node.left, prefix + \"0\", codebook)\n",
    "        generate_huffman_codes(node.right, prefix + \"1\", codebook)\n",
    "\n",
    "    return codebook\n"
   ]
  },
  {
   "cell_type": "markdown",
   "metadata": {},
   "source": [
    "# Salvar no arquivo a imagem comprimida/ descomprimir a imagem -  Araju\n"
   ]
  },
  {
   "cell_type": "code",
   "execution_count": null,
   "metadata": {},
   "outputs": [],
   "source": [
    "def encode_data(data, huffman_codes):\n",
    "    return ''.join(huffman_codes[symbol] for symbol in data)\n",
    "\n",
    "def decode_data(encoded_data, huffman_tree):\n",
    "    decoded_data = []\n",
    "    current_node = huffman_tree\n",
    "    for bit in encoded_data:\n",
    "        if bit == '0':\n",
    "            current_node = current_node.left\n",
    "        else:\n",
    "            current_node = current_node.right\n",
    "\n",
    "        if current_node.symbol is not None:\n",
    "            decoded_data.append(current_node.symbol)\n",
    "            current_node = huffman_tree\n",
    "\n",
    "    return decoded_data\n",
    "\n",
    "def save_to_file(filename, huffman_codes, encoded_data):\n",
    "    with open(filename, 'wb') as file:\n",
    "        # Save the number of unique symbols\n",
    "        file.write(struct.pack('<I', len(huffman_codes)))\n",
    "\n",
    "        # Save the Huffman codes\n",
    "        for symbol, code in huffman_codes.items():\n",
    "            file.write(struct.pack('<i', symbol))  # Symbol as 4 bytes\n",
    "            file.write(struct.pack('<B', len(code)))  # Length of the code\n",
    "            file.write(code.encode())  # Code as bytes\n",
    "\n",
    "        # Save the length of the encoded data in bits\n",
    "        file.write(struct.pack('<I', len(encoded_data)))\n",
    "\n",
    "        # Convert the encoded data to bytes\n",
    "        buffer = 0\n",
    "        buffer_length = 0\n",
    "        byte_array = bytearray()\n",
    "\n",
    "        for bit in encoded_data:\n",
    "            buffer = (buffer << 1) | int(bit)\n",
    "            buffer_length += 1\n",
    "\n",
    "            if buffer_length == 8:\n",
    "                byte_array.append(buffer)\n",
    "                buffer = 0\n",
    "                buffer_length = 0\n",
    "\n",
    "        # If there are remaining bits in the buffer, pad with zeros and add to byte array\n",
    "        if buffer_length > 0:\n",
    "            buffer <<= (8 - buffer_length)\n",
    "            byte_array.append(buffer)\n",
    "        print(sys.getsizeof(byte_array))\n",
    "        file.write(byte_array)\n",
    "\n",
    "def load_from_file(filename):\n",
    "    with open(filename, 'rb') as file:\n",
    "        # Read the number of unique symbols\n",
    "        num_symbols = struct.unpack('<I', file.read(4))[0]\n",
    "\n",
    "        # Read the Huffman codes\n",
    "        huffman_codes = {}\n",
    "        for _ in range(num_symbols):\n",
    "            symbol = struct.unpack('<i', file.read(4))[0]\n",
    "            code_length = struct.unpack('<B', file.read(1))[0]\n",
    "            code = file.read(code_length).decode()\n",
    "            huffman_codes[symbol] = code\n",
    "\n",
    "        # Read the length of the encoded data in bits\n",
    "        encoded_data_length = struct.unpack('<I', file.read(4))[0]\n",
    "\n",
    "        # Read the encoded data as bits\n",
    "        encoded_data = ''\n",
    "        while len(encoded_data) < encoded_data_length:\n",
    "            byte = file.read(1)\n",
    "            if not byte:\n",
    "                break\n",
    "            byte_value = ord(byte)\n",
    "            encoded_data += f'{byte_value:08b}'\n",
    "\n",
    "        return huffman_codes, encoded_data[:encoded_data_length]\n",
    "\n",
    "def huffman_encode_matrix(matrix):\n",
    "    flat_list = [item for sublist in matrix for item in sublist]\n",
    "    frequencies = Counter(flat_list)\n",
    "    huffman_tree = build_huffman_tree(frequencies)\n",
    "    huffman_codes = generate_huffman_codes(huffman_tree)\n",
    "    encoded_data = encode_data(flat_list, huffman_codes)\n",
    "    return huffman_codes, encoded_data, huffman_tree\n",
    "\n",
    "def huffman_decode_matrix(encoded_data, huffman_tree, original_shape):\n",
    "    decoded_flat_list = decode_data(encoded_data, huffman_tree)\n",
    "    matrix = []\n",
    "    index = 0\n",
    "    for row_size in original_shape:\n",
    "        matrix.append(decoded_flat_list[index:index + row_size])\n",
    "        index += row_size\n",
    "    return matrix"
   ]
  },
  {
   "cell_type": "code",
   "execution_count": null,
   "metadata": {},
   "outputs": [],
   "source": [
    "# Example usage:\n",
    "matrix = [\n",
    "    [1, 2, 3],\n",
    "    [4, 5, 6],\n",
    "    [7, 8, 9]\n",
    "]\n",
    "print(sys.getsizeof(matrix))\n",
    "original_shape = [len(row) for row in matrix]\n",
    "huffman_codes, encoded_data, huffman_tree = huffman_encode_matrix(matrix)\n",
    "filename = 'matrix.huff'\n",
    "save_to_file(filename, huffman_codes, encoded_data)\n",
    "\n",
    "loaded_huffman_codes, loaded_encoded_data = load_from_file(filename)\n",
    "decoded_matrix = huffman_decode_matrix(loaded_encoded_data, huffman_tree, original_shape)\n",
    "print(decoded_matrix)"
   ]
  }
 ],
 "metadata": {
  "kernelspec": {
   "display_name": ".venv",
   "language": "python",
   "name": "python3"
  },
  "language_info": {
   "codemirror_mode": {
    "name": "ipython",
    "version": 3
   },
   "file_extension": ".py",
   "mimetype": "text/x-python",
   "name": "python",
   "nbconvert_exporter": "python",
   "pygments_lexer": "ipython3",
   "version": "3.12.7"
  }
 },
 "nbformat": 4,
 "nbformat_minor": 2
}
